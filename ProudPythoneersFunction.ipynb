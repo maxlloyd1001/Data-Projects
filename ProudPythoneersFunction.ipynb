{
 "cells": [
  {
   "cell_type": "markdown",
   "source": [
    "# <u> Function\n",
    "This function uses linear modelling to produce a prediction for the price of a used car"
   ],
   "metadata": {
    "collapsed": false,
    "pycharm": {
     "name": "#%% md\n"
    }
   }
  },
  {
   "cell_type": "code",
   "execution_count": 5,
   "outputs": [],
   "source": [
    "import pandas as pd\n",
    "\n",
    "from sklearn.preprocessing import StandardScaler"
   ],
   "metadata": {
    "collapsed": false,
    "pycharm": {
     "name": "#%%\n"
    }
   }
  },
  {
   "cell_type": "code",
   "execution_count": 1,
   "metadata": {
    "collapsed": true,
    "pycharm": {
     "name": "#%%\n"
    }
   },
   "outputs": [
    {
     "ename": "NameError",
     "evalue": "name 'mileage' is not defined",
     "output_type": "error",
     "traceback": [
      "\u001B[1;31m---------------------------------------------------------------------------\u001B[0m",
      "\u001B[1;31mNameError\u001B[0m                                 Traceback (most recent call last)",
      "Input \u001B[1;32mIn [1]\u001B[0m, in \u001B[0;36m<cell line: 1>\u001B[1;34m()\u001B[0m\n\u001B[1;32m----> 1\u001B[0m to_scale \u001B[38;5;241m=\u001B[39m [\u001B[43mmileage\u001B[49m,BHP,owners,engine,year]\n\u001B[0;32m      2\u001B[0m to_scale \u001B[38;5;241m=\u001B[39m [\u001B[38;5;241m26000\u001B[39m,\u001B[38;5;241m106\u001B[39m,\u001B[38;5;241m2\u001B[39m,\u001B[38;5;241m1.3\u001B[39m,\u001B[38;5;241m2008\u001B[39m]\n\u001B[0;32m      3\u001B[0m details_scaled \u001B[38;5;241m=\u001B[39m StandardScaler()\u001B[38;5;241m.\u001B[39mfit_transform([to_scale])\n",
      "\u001B[1;31mNameError\u001B[0m: name 'mileage' is not defined"
     ]
    }
   ],
   "source": [
    "\n",
    "to_scale = [mileage,BHP,owners,engine,year]\n",
    "to_scale = [26000,106,2,1.3,2008]\n",
    "details_scaled = StandardScaler().fit_transform([to_scale])\n",
    "print([details_scaled])\n",
    "\n",
    "predicted_price = results.predict([details_scaled,1,1,0,1,0,0,0,1,0 ])\n",
    "\n",
    "#print(predicted_price)\n",
    "\n",
    "\n",
    "\n",
    "A = np.array([['Fiesta']])\n",
    "s=' '\n",
    "while len(A) >4:\n",
    "    A.append(s)\n",
    "\n",
    "B = np.array([['Focus', 'Fiesta', 'Ka','Puma']])\n",
    "C = A == B\n",
    "G = C.astype(np.int)\n",
    "\n",
    "D = np.array([['Petrol', ' ']])\n",
    "E = np.array([['Petrol','Diesel']])\n",
    "F = D == E\n",
    "H = F.astype(np.int)\n",
    "\n",
    "\n",
    "\n",
    "predicted_price = results.predict([-0.509380,-1.013511e+00,1.109014,-1.165602e+00,1.267786, H, 1, G, 0,1,0 ])\n"
   ]
  },
  {
   "cell_type": "code",
   "execution_count": 27,
   "outputs": [],
   "source": [
    "def suggest_price__Ford(car_input):\n",
    "    car_input = pd.DataFrame(car_input, columns = ['model','year','mileage','BHP','transmission','fuel','owners','body','ULEZ','Engine','Condition'], index = 1)\n",
    "\n",
    "    condition = car_input['Condition']\n",
    "    to_scale = ['mileage','BHP','owners','engine', 'year']\n",
    "    car_input_scaled = StandardScaler().fit_transform(car_input[to_scale])\n",
    "    car_input_scaled = pd.DataFrame(car_input_scaled,  columns = to_scale)\n",
    "\n",
    "    to_ohe = ['transmission', 'fuel', 'body', 'car_model',  'ULEZ' ]\n",
    "    df_ohe = pd.get_dummies(car_input[to_ohe], columns = to_ohe, prefix = to_ohe)\n",
    "    car_input = car_input_scaled.join(df_ohe, how = 'inner', lsuffix = True)\n",
    "\n",
    "    cols = ['mileage', 'owners', 'engine', 'BHP', 'years', 'fuel_Petrol', 'fuel_Diesel', 'fuel_Petrol Hybrid', 'ULEZ_ULEZ', 'ULEZ_Not_ULEZ', 'transmission_Automatic', 'transmission_Manual', 'body_Hatchback', 'body_Saloon', 'body_Estate', 'body_SUV', 'car_model_Ford_Fiesta', 'car_model_Ford_Focus','car_model_Ford_Ka','car_model_Ford_Puma' ]\n",
    "\n",
    "    cols = pd.DataFrame(columns = cols)\n",
    "\n",
    "    car_input = pd.concat([cols , car_input], axis=1, join='inner')\n",
    "    car_input.fillna(0)\n",
    "\n",
    "    price = (car_input['mileage'] * -1722.0728) + (car_input['owners'] * 66.3199) +(car_input['engine'] * 1692.7197) +(car_input['year'] * 3299.8136) +(car_input['fuel_Petrol'] * 1071.9512) +(car_input['ULEZ_ULEZ'] * 490.1121) +(car_input['car_model_Ford_Focus'] * 1051.7227) +(car_input['car_model_Ka'] * -1517.7563) +(car_input['car_model_Puma'] * 7818.4568) +(car_input['transmission_Automatic'] * 128.1787) +(car_input['body_hatchback'] * -113.2229) + 6267.3435\n",
    "\n",
    "    if condition == 'No Damage':\n",
    "        price = price * 0.7\n",
    "    elif condition == 'Moderate Damaged':\n",
    "        price = price * 0.5\n",
    "    elif condition == 'Heavy Damaged':\n",
    "        price = price * 0.3\n",
    "\n",
    "\n",
    "\n",
    "\n",
    "    return print(f\"Your predicted price for your car is £ {price}\")\n",
    "\n",
    "\n",
    "\n",
    "\n",
    "\n",
    "\n",
    "\n",
    "\n"
   ],
   "metadata": {
    "collapsed": false,
    "pycharm": {
     "name": "#%%\n"
    }
   }
  },
  {
   "cell_type": "code",
   "execution_count": 25,
   "outputs": [],
   "source": [
    "car_input = [['model','Ford_Focus'],['year',2007],['mileage',80000],['BHP',64],['transmission','Manual'],['fuel','Petrol'],['owners',2],['body','Hatchback'],['ULEZ','ULEZ'],['engine',1.6],['Condition','No Damage']]"
   ],
   "metadata": {
    "collapsed": false,
    "pycharm": {
     "name": "#%%\n"
    }
   }
  },
  {
   "cell_type": "code",
   "execution_count": 26,
   "outputs": [
    {
     "ename": "ValueError",
     "evalue": "11 columns passed, passed data had 2 columns",
     "output_type": "error",
     "traceback": [
      "\u001B[1;31m---------------------------------------------------------------------------\u001B[0m",
      "\u001B[1;31mAssertionError\u001B[0m                            Traceback (most recent call last)",
      "File \u001B[1;32m~\\anaconda3\\lib\\site-packages\\pandas\\core\\internals\\construction.py:982\u001B[0m, in \u001B[0;36m_finalize_columns_and_data\u001B[1;34m(content, columns, dtype)\u001B[0m\n\u001B[0;32m    981\u001B[0m \u001B[38;5;28;01mtry\u001B[39;00m:\n\u001B[1;32m--> 982\u001B[0m     columns \u001B[38;5;241m=\u001B[39m \u001B[43m_validate_or_indexify_columns\u001B[49m\u001B[43m(\u001B[49m\u001B[43mcontents\u001B[49m\u001B[43m,\u001B[49m\u001B[43m \u001B[49m\u001B[43mcolumns\u001B[49m\u001B[43m)\u001B[49m\n\u001B[0;32m    983\u001B[0m \u001B[38;5;28;01mexcept\u001B[39;00m \u001B[38;5;167;01mAssertionError\u001B[39;00m \u001B[38;5;28;01mas\u001B[39;00m err:\n\u001B[0;32m    984\u001B[0m     \u001B[38;5;66;03m# GH#26429 do not raise user-facing AssertionError\u001B[39;00m\n",
      "File \u001B[1;32m~\\anaconda3\\lib\\site-packages\\pandas\\core\\internals\\construction.py:1030\u001B[0m, in \u001B[0;36m_validate_or_indexify_columns\u001B[1;34m(content, columns)\u001B[0m\n\u001B[0;32m   1028\u001B[0m \u001B[38;5;28;01mif\u001B[39;00m \u001B[38;5;129;01mnot\u001B[39;00m is_mi_list \u001B[38;5;129;01mand\u001B[39;00m \u001B[38;5;28mlen\u001B[39m(columns) \u001B[38;5;241m!=\u001B[39m \u001B[38;5;28mlen\u001B[39m(content):  \u001B[38;5;66;03m# pragma: no cover\u001B[39;00m\n\u001B[0;32m   1029\u001B[0m     \u001B[38;5;66;03m# caller's responsibility to check for this...\u001B[39;00m\n\u001B[1;32m-> 1030\u001B[0m     \u001B[38;5;28;01mraise\u001B[39;00m \u001B[38;5;167;01mAssertionError\u001B[39;00m(\n\u001B[0;32m   1031\u001B[0m         \u001B[38;5;124mf\u001B[39m\u001B[38;5;124m\"\u001B[39m\u001B[38;5;132;01m{\u001B[39;00m\u001B[38;5;28mlen\u001B[39m(columns)\u001B[38;5;132;01m}\u001B[39;00m\u001B[38;5;124m columns passed, passed data had \u001B[39m\u001B[38;5;124m\"\u001B[39m\n\u001B[0;32m   1032\u001B[0m         \u001B[38;5;124mf\u001B[39m\u001B[38;5;124m\"\u001B[39m\u001B[38;5;132;01m{\u001B[39;00m\u001B[38;5;28mlen\u001B[39m(content)\u001B[38;5;132;01m}\u001B[39;00m\u001B[38;5;124m columns\u001B[39m\u001B[38;5;124m\"\u001B[39m\n\u001B[0;32m   1033\u001B[0m     )\n\u001B[0;32m   1034\u001B[0m \u001B[38;5;28;01melif\u001B[39;00m is_mi_list:\n\u001B[0;32m   1035\u001B[0m \n\u001B[0;32m   1036\u001B[0m     \u001B[38;5;66;03m# check if nested list column, length of each sub-list should be equal\u001B[39;00m\n",
      "\u001B[1;31mAssertionError\u001B[0m: 11 columns passed, passed data had 2 columns",
      "\nThe above exception was the direct cause of the following exception:\n",
      "\u001B[1;31mValueError\u001B[0m                                Traceback (most recent call last)",
      "Input \u001B[1;32mIn [26]\u001B[0m, in \u001B[0;36m<cell line: 1>\u001B[1;34m()\u001B[0m\n\u001B[1;32m----> 1\u001B[0m \u001B[43msuggest_price__Ford\u001B[49m\u001B[43m(\u001B[49m\u001B[43mcar_input\u001B[49m\u001B[43m)\u001B[49m\n",
      "Input \u001B[1;32mIn [22]\u001B[0m, in \u001B[0;36msuggest_price__Ford\u001B[1;34m(car_input)\u001B[0m\n\u001B[0;32m      1\u001B[0m \u001B[38;5;28;01mdef\u001B[39;00m \u001B[38;5;21msuggest_price__Ford\u001B[39m(car_input):\n\u001B[1;32m----> 2\u001B[0m     car_input \u001B[38;5;241m=\u001B[39m \u001B[43mpd\u001B[49m\u001B[38;5;241;43m.\u001B[39;49m\u001B[43mDataFrame\u001B[49m\u001B[43m(\u001B[49m\u001B[43mcar_input\u001B[49m\u001B[43m,\u001B[49m\u001B[43m \u001B[49m\u001B[43mcolumns\u001B[49m\u001B[43m \u001B[49m\u001B[38;5;241;43m=\u001B[39;49m\u001B[43m \u001B[49m\u001B[43m[\u001B[49m\u001B[38;5;124;43m'\u001B[39;49m\u001B[38;5;124;43mmodel\u001B[39;49m\u001B[38;5;124;43m'\u001B[39;49m\u001B[43m,\u001B[49m\u001B[38;5;124;43m'\u001B[39;49m\u001B[38;5;124;43myear\u001B[39;49m\u001B[38;5;124;43m'\u001B[39;49m\u001B[43m,\u001B[49m\u001B[38;5;124;43m'\u001B[39;49m\u001B[38;5;124;43mmileage\u001B[39;49m\u001B[38;5;124;43m'\u001B[39;49m\u001B[43m,\u001B[49m\u001B[38;5;124;43m'\u001B[39;49m\u001B[38;5;124;43mBHP\u001B[39;49m\u001B[38;5;124;43m'\u001B[39;49m\u001B[43m,\u001B[49m\u001B[38;5;124;43m'\u001B[39;49m\u001B[38;5;124;43mtransmission\u001B[39;49m\u001B[38;5;124;43m'\u001B[39;49m\u001B[43m,\u001B[49m\u001B[38;5;124;43m'\u001B[39;49m\u001B[38;5;124;43mfuel\u001B[39;49m\u001B[38;5;124;43m'\u001B[39;49m\u001B[43m,\u001B[49m\u001B[38;5;124;43m'\u001B[39;49m\u001B[38;5;124;43mowners\u001B[39;49m\u001B[38;5;124;43m'\u001B[39;49m\u001B[43m,\u001B[49m\u001B[38;5;124;43m'\u001B[39;49m\u001B[38;5;124;43mbody\u001B[39;49m\u001B[38;5;124;43m'\u001B[39;49m\u001B[43m,\u001B[49m\u001B[38;5;124;43m'\u001B[39;49m\u001B[38;5;124;43mULEZ\u001B[39;49m\u001B[38;5;124;43m'\u001B[39;49m\u001B[43m,\u001B[49m\u001B[38;5;124;43m'\u001B[39;49m\u001B[38;5;124;43mEngine\u001B[39;49m\u001B[38;5;124;43m'\u001B[39;49m\u001B[43m,\u001B[49m\u001B[38;5;124;43m'\u001B[39;49m\u001B[38;5;124;43mCondition\u001B[39;49m\u001B[38;5;124;43m'\u001B[39;49m\u001B[43m]\u001B[49m\u001B[43m,\u001B[49m\u001B[43m \u001B[49m\u001B[43mindex\u001B[49m\u001B[43m \u001B[49m\u001B[38;5;241;43m=\u001B[39;49m\u001B[43m \u001B[49m\u001B[38;5;241;43m1\u001B[39;49m\u001B[43m)\u001B[49m\n\u001B[0;32m      4\u001B[0m     condition \u001B[38;5;241m=\u001B[39m car_input[\u001B[38;5;124m'\u001B[39m\u001B[38;5;124mCondition\u001B[39m\u001B[38;5;124m'\u001B[39m]\n\u001B[0;32m      5\u001B[0m     to_scale \u001B[38;5;241m=\u001B[39m [\u001B[38;5;124m'\u001B[39m\u001B[38;5;124mmileage\u001B[39m\u001B[38;5;124m'\u001B[39m,\u001B[38;5;124m'\u001B[39m\u001B[38;5;124mBHP\u001B[39m\u001B[38;5;124m'\u001B[39m,\u001B[38;5;124m'\u001B[39m\u001B[38;5;124mowners\u001B[39m\u001B[38;5;124m'\u001B[39m,\u001B[38;5;124m'\u001B[39m\u001B[38;5;124mengine\u001B[39m\u001B[38;5;124m'\u001B[39m, \u001B[38;5;124m'\u001B[39m\u001B[38;5;124myear\u001B[39m\u001B[38;5;124m'\u001B[39m]\n",
      "File \u001B[1;32m~\\anaconda3\\lib\\site-packages\\pandas\\core\\frame.py:721\u001B[0m, in \u001B[0;36mDataFrame.__init__\u001B[1;34m(self, data, index, columns, dtype, copy)\u001B[0m\n\u001B[0;32m    716\u001B[0m     \u001B[38;5;28;01mif\u001B[39;00m columns \u001B[38;5;129;01mis\u001B[39;00m \u001B[38;5;129;01mnot\u001B[39;00m \u001B[38;5;28;01mNone\u001B[39;00m:\n\u001B[0;32m    717\u001B[0m         \u001B[38;5;66;03m# error: Argument 1 to \"ensure_index\" has incompatible type\u001B[39;00m\n\u001B[0;32m    718\u001B[0m         \u001B[38;5;66;03m# \"Collection[Any]\"; expected \"Union[Union[Union[ExtensionArray,\u001B[39;00m\n\u001B[0;32m    719\u001B[0m         \u001B[38;5;66;03m# ndarray], Index, Series], Sequence[Any]]\"\u001B[39;00m\n\u001B[0;32m    720\u001B[0m         columns \u001B[38;5;241m=\u001B[39m ensure_index(columns)  \u001B[38;5;66;03m# type: ignore[arg-type]\u001B[39;00m\n\u001B[1;32m--> 721\u001B[0m     arrays, columns, index \u001B[38;5;241m=\u001B[39m \u001B[43mnested_data_to_arrays\u001B[49m\u001B[43m(\u001B[49m\n\u001B[0;32m    722\u001B[0m \u001B[43m        \u001B[49m\u001B[38;5;66;43;03m# error: Argument 3 to \"nested_data_to_arrays\" has incompatible\u001B[39;49;00m\n\u001B[0;32m    723\u001B[0m \u001B[43m        \u001B[49m\u001B[38;5;66;43;03m# type \"Optional[Collection[Any]]\"; expected \"Optional[Index]\"\u001B[39;49;00m\n\u001B[0;32m    724\u001B[0m \u001B[43m        \u001B[49m\u001B[43mdata\u001B[49m\u001B[43m,\u001B[49m\n\u001B[0;32m    725\u001B[0m \u001B[43m        \u001B[49m\u001B[43mcolumns\u001B[49m\u001B[43m,\u001B[49m\n\u001B[0;32m    726\u001B[0m \u001B[43m        \u001B[49m\u001B[43mindex\u001B[49m\u001B[43m,\u001B[49m\u001B[43m  \u001B[49m\u001B[38;5;66;43;03m# type: ignore[arg-type]\u001B[39;49;00m\n\u001B[0;32m    727\u001B[0m \u001B[43m        \u001B[49m\u001B[43mdtype\u001B[49m\u001B[43m,\u001B[49m\n\u001B[0;32m    728\u001B[0m \u001B[43m    \u001B[49m\u001B[43m)\u001B[49m\n\u001B[0;32m    729\u001B[0m     mgr \u001B[38;5;241m=\u001B[39m arrays_to_mgr(\n\u001B[0;32m    730\u001B[0m         arrays,\n\u001B[0;32m    731\u001B[0m         columns,\n\u001B[1;32m   (...)\u001B[0m\n\u001B[0;32m    734\u001B[0m         typ\u001B[38;5;241m=\u001B[39mmanager,\n\u001B[0;32m    735\u001B[0m     )\n\u001B[0;32m    736\u001B[0m \u001B[38;5;28;01melse\u001B[39;00m:\n",
      "File \u001B[1;32m~\\anaconda3\\lib\\site-packages\\pandas\\core\\internals\\construction.py:519\u001B[0m, in \u001B[0;36mnested_data_to_arrays\u001B[1;34m(data, columns, index, dtype)\u001B[0m\n\u001B[0;32m    516\u001B[0m \u001B[38;5;28;01mif\u001B[39;00m is_named_tuple(data[\u001B[38;5;241m0\u001B[39m]) \u001B[38;5;129;01mand\u001B[39;00m columns \u001B[38;5;129;01mis\u001B[39;00m \u001B[38;5;28;01mNone\u001B[39;00m:\n\u001B[0;32m    517\u001B[0m     columns \u001B[38;5;241m=\u001B[39m ensure_index(data[\u001B[38;5;241m0\u001B[39m]\u001B[38;5;241m.\u001B[39m_fields)\n\u001B[1;32m--> 519\u001B[0m arrays, columns \u001B[38;5;241m=\u001B[39m \u001B[43mto_arrays\u001B[49m\u001B[43m(\u001B[49m\u001B[43mdata\u001B[49m\u001B[43m,\u001B[49m\u001B[43m \u001B[49m\u001B[43mcolumns\u001B[49m\u001B[43m,\u001B[49m\u001B[43m \u001B[49m\u001B[43mdtype\u001B[49m\u001B[38;5;241;43m=\u001B[39;49m\u001B[43mdtype\u001B[49m\u001B[43m)\u001B[49m\n\u001B[0;32m    520\u001B[0m columns \u001B[38;5;241m=\u001B[39m ensure_index(columns)\n\u001B[0;32m    522\u001B[0m \u001B[38;5;28;01mif\u001B[39;00m index \u001B[38;5;129;01mis\u001B[39;00m \u001B[38;5;28;01mNone\u001B[39;00m:\n",
      "File \u001B[1;32m~\\anaconda3\\lib\\site-packages\\pandas\\core\\internals\\construction.py:883\u001B[0m, in \u001B[0;36mto_arrays\u001B[1;34m(data, columns, dtype)\u001B[0m\n\u001B[0;32m    880\u001B[0m     data \u001B[38;5;241m=\u001B[39m [\u001B[38;5;28mtuple\u001B[39m(x) \u001B[38;5;28;01mfor\u001B[39;00m x \u001B[38;5;129;01min\u001B[39;00m data]\n\u001B[0;32m    881\u001B[0m     arr \u001B[38;5;241m=\u001B[39m _list_to_arrays(data)\n\u001B[1;32m--> 883\u001B[0m content, columns \u001B[38;5;241m=\u001B[39m \u001B[43m_finalize_columns_and_data\u001B[49m\u001B[43m(\u001B[49m\u001B[43marr\u001B[49m\u001B[43m,\u001B[49m\u001B[43m \u001B[49m\u001B[43mcolumns\u001B[49m\u001B[43m,\u001B[49m\u001B[43m \u001B[49m\u001B[43mdtype\u001B[49m\u001B[43m)\u001B[49m\n\u001B[0;32m    884\u001B[0m \u001B[38;5;28;01mreturn\u001B[39;00m content, columns\n",
      "File \u001B[1;32m~\\anaconda3\\lib\\site-packages\\pandas\\core\\internals\\construction.py:985\u001B[0m, in \u001B[0;36m_finalize_columns_and_data\u001B[1;34m(content, columns, dtype)\u001B[0m\n\u001B[0;32m    982\u001B[0m     columns \u001B[38;5;241m=\u001B[39m _validate_or_indexify_columns(contents, columns)\n\u001B[0;32m    983\u001B[0m \u001B[38;5;28;01mexcept\u001B[39;00m \u001B[38;5;167;01mAssertionError\u001B[39;00m \u001B[38;5;28;01mas\u001B[39;00m err:\n\u001B[0;32m    984\u001B[0m     \u001B[38;5;66;03m# GH#26429 do not raise user-facing AssertionError\u001B[39;00m\n\u001B[1;32m--> 985\u001B[0m     \u001B[38;5;28;01mraise\u001B[39;00m \u001B[38;5;167;01mValueError\u001B[39;00m(err) \u001B[38;5;28;01mfrom\u001B[39;00m \u001B[38;5;21;01merr\u001B[39;00m\n\u001B[0;32m    987\u001B[0m \u001B[38;5;28;01mif\u001B[39;00m \u001B[38;5;28mlen\u001B[39m(contents) \u001B[38;5;129;01mand\u001B[39;00m contents[\u001B[38;5;241m0\u001B[39m]\u001B[38;5;241m.\u001B[39mdtype \u001B[38;5;241m==\u001B[39m np\u001B[38;5;241m.\u001B[39mobject_:\n\u001B[0;32m    988\u001B[0m     contents \u001B[38;5;241m=\u001B[39m _convert_object_array(contents, dtype\u001B[38;5;241m=\u001B[39mdtype)\n",
      "\u001B[1;31mValueError\u001B[0m: 11 columns passed, passed data had 2 columns"
     ]
    }
   ],
   "source": [
    "suggest_price__Ford(car_input)"
   ],
   "metadata": {
    "collapsed": false,
    "pycharm": {
     "name": "#%%\n"
    }
   }
  },
  {
   "cell_type": "code",
   "execution_count": null,
   "outputs": [],
   "source": [
    "def wbaac(mileage,  owners, engine, year, fuel, ulez, car_mod,transmission,body, condition):\n",
    "    to_scale = [mileage,owners,engine,year]\n",
    "    details_scaled = StandardScaler().fit_transform([to_scale])\n",
    "    fuel = np.array([[fuel]])\n",
    "    Diesel = np.array([['Diesel']])\n",
    "    Diesel = fuel == Diesel\n",
    "    Diesel = Diesel.astype(np.int64)\n",
    "    ulez = np.array([[ulez]])\n",
    "    ULEZ = np.array([['ULEZ']])\n",
    "    ULEZ = ulez == ULEZ\n",
    "    ULEZ = ULEZ.astype(np.int64)\n",
    "    car_mod = np.array([[car_mod]])\n",
    "    Focus = np.array([['Focus']])\n",
    "    Ka = np.array([['Ka']])\n",
    "    puma = np.array([['Puma']])\n",
    "    focus = car_mod == Focus\n",
    "    focus = focus.astype(np.int64)\n",
    "    Ka = car_mod == Ka\n",
    "    Ka = Ka.astype(np.int64)\n",
    "    puma = car_mod == puma\n",
    "    puma = puma.astype(np.int64)\n",
    "    transmission = np.array([[transmission]])\n",
    "    auto = np.array([['Automatic']])\n",
    "    auto = transmission == auto\n",
    "    auto = auto.astype(np.int64)\n",
    "    body = np.array([[body]])\n",
    "    hatchback = np.array([['Hatchback']])\n",
    "    hatchback = body == hatchback\n",
    "    hatchback = hatchback.astype(np.int64)\n",
    "\n",
    "price = (((mileage * -1722.0728)+(owners*66.3199)+(engine*1526.10)+(year*3186.95)+(Diesel*-749.63)+(ULEZ*589.50)+(focus*8115.32)+(Ka*5894.32)+(puma*15050)+(auto*205.80)+(hatchback*-71.04)) +7339.2947)\n",
    "if condition == 'No Damage':\n",
    "    price = price-((price/10)*2)\n",
    "elif condition == 'Moderate Damaged':\n",
    "    price = price-((price/10)*5)\n",
    "elif condition == 'Heavily Damaged':\n",
    "    price = price-((price/10)*7)\n",
    "return price\n"
   ],
   "metadata": {
    "collapsed": false,
    "pycharm": {
     "name": "#%%\n"
    }
   }
  }
 ],
 "metadata": {
  "kernelspec": {
   "display_name": "Python 3",
   "language": "python",
   "name": "python3"
  },
  "language_info": {
   "codemirror_mode": {
    "name": "ipython",
    "version": 2
   },
   "file_extension": ".py",
   "mimetype": "text/x-python",
   "name": "python",
   "nbconvert_exporter": "python",
   "pygments_lexer": "ipython2",
   "version": "2.7.6"
  }
 },
 "nbformat": 4,
 "nbformat_minor": 0
}